{
 "cells": [
  {
   "cell_type": "code",
   "execution_count": 2,
   "metadata": {},
   "outputs": [],
   "source": [
    "a = [4, -1, 2, 1]\n",
    "b = [-1, 2, -5, 1]"
   ]
  },
  {
   "cell_type": "code",
   "execution_count": 23,
   "metadata": {},
   "outputs": [],
   "source": [
    "def max_sum(l):\n",
    "    print(l)\n",
    "    if len(l) == 0:\n",
    "        return 0\n",
    "    if len(l) == 1:\n",
    "        return min(l[0], 0)\n",
    "    mid = len(l) / 2\n",
    "    left = max_sum(l[:mid])\n",
    "    right = max_sum(l[mid:])\n",
    "    if (left > 0) and (right > 0):\n",
    "        return left + right\n",
    "    if (left > 0):\n",
    "        return left\n",
    "    if (right > 0):\n",
    "        return right\n",
    "    return 0\n",
    "    "
   ]
  },
  {
   "cell_type": "code",
   "execution_count": 24,
   "metadata": {},
   "outputs": [
    {
     "ename": "IndentationError",
     "evalue": "expected an indented block (<ipython-input-24-e49cf068e4a5>, line 7)",
     "output_type": "error",
     "traceback": [
      "\u001b[0;36m  File \u001b[0;32m\"<ipython-input-24-e49cf068e4a5>\"\u001b[0;36m, line \u001b[0;32m7\u001b[0m\n\u001b[0;31m    mid = len(l) / 2\u001b[0m\n\u001b[0m      ^\u001b[0m\n\u001b[0;31mIndentationError\u001b[0m\u001b[0;31m:\u001b[0m expected an indented block\n"
     ]
    }
   ],
   "source": [
    "def max_sublist(l):\n",
    "    print(l)\n",
    "    if len(l) == 1:\n",
    "        return l\n",
    "    if len(l) == 2:\n",
    "        \n",
    "    mid = len(l) / 2\n",
    "    left = max_sublist(l[:mid])\n",
    "    right = max_sublist(l[mid:])\n",
    "    print(left, right)\n",
    "    max_comb = max(left, right, left+right)\n",
    "    return max_comb"
   ]
  },
  {
   "cell_type": "code",
   "execution_count": 25,
   "metadata": {},
   "outputs": [
    {
     "name": "stdout",
     "output_type": "stream",
     "text": [
      "[-1, 2, -5, 1]\n",
      "[-1, 2]\n",
      "[-1]\n",
      "[2]\n",
      "(-1, 0)\n",
      "[-5, 1]\n",
      "[-5]\n",
      "[1]\n",
      "(-5, 0)\n",
      "(0, 0)\n"
     ]
    },
    {
     "data": {
      "text/plain": [
       "0"
      ]
     },
     "execution_count": 25,
     "metadata": {},
     "output_type": "execute_result"
    }
   ],
   "source": [
    "max_sum(b)"
   ]
  },
  {
   "cell_type": "code",
   "execution_count": 27,
   "metadata": {},
   "outputs": [
    {
     "data": {
      "text/plain": [
       "[1, 2, -1, 4]"
      ]
     },
     "execution_count": 27,
     "metadata": {},
     "output_type": "execute_result"
    }
   ],
   "source": [
    "c = (a + b)\n",
    "m = len(c) / 2\n",
    "c[m-1::-1]"
   ]
  },
  {
   "cell_type": "code",
   "execution_count": 28,
   "metadata": {},
   "outputs": [
    {
     "data": {
      "text/plain": [
       "[4, -1, 2, 1, -1, 2, -5, 1]"
      ]
     },
     "execution_count": 28,
     "metadata": {},
     "output_type": "execute_result"
    }
   ],
   "source": [
    "c"
   ]
  },
  {
   "cell_type": "code",
   "execution_count": null,
   "metadata": {},
   "outputs": [],
   "source": []
  }
 ],
 "metadata": {
  "kernelspec": {
   "display_name": "Python 2",
   "language": "python",
   "name": "python2"
  },
  "language_info": {
   "codemirror_mode": {
    "name": "ipython",
    "version": 2
   },
   "file_extension": ".py",
   "mimetype": "text/x-python",
   "name": "python",
   "nbconvert_exporter": "python",
   "pygments_lexer": "ipython2",
   "version": "2.7.12"
  }
 },
 "nbformat": 4,
 "nbformat_minor": 2
}
